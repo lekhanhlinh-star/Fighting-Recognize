{
 "cells": [
  {
   "cell_type": "code",
   "execution_count": 1,
   "metadata": {},
   "outputs": [
    {
     "name": "stderr",
     "output_type": "stream",
     "text": [
      "/data/thinhlv/data/anaconda/envs/khanhlinh/lib/python3.9/site-packages/torchvision/transforms/_functional_video.py:6: UserWarning: The 'torchvision.transforms._functional_video' module is deprecated since 0.12 and will be removed in 0.14. Please use the 'torchvision.transforms.functional' module instead.\n",
      "  warnings.warn(\n",
      "/data/thinhlv/data/anaconda/envs/khanhlinh/lib/python3.9/site-packages/torchvision/transforms/_transforms_video.py:25: UserWarning: The 'torchvision.transforms._transforms_video' module is deprecated since 0.12 and will be removed in 0.14. Please use the 'torchvision.transforms' module instead.\n",
      "  warnings.warn(\n"
     ]
    }
   ],
   "source": [
    "# import the necessary libraries\n",
    "import torch\n",
    "import pytorchvideo\n",
    "from pytorchvideo.data import LabeledVideoDataset,Kinetics, make_clip_sampler,labeled_video_dataset\n",
    "\n",
    "from pytorchvideo.transforms import(\n",
    "    ApplyTransformToKey,Normalize,RandomShortSideScale,Permute,UniformTemporalSubsample,  ShortSideScale\n",
    ")\n",
    "\n",
    "from torchvision.transforms import(\n",
    "    Compose,Lambda,RandomCrop,RandomHorizontalFlip,Resize,\n",
    ")\n",
    "from torchvision.transforms._transforms_video import(\n",
    "    CenterCropVideo,\n",
    "    NormalizeVideo\n",
    ")\n",
    "import torch.nn as nn\n",
    "import torch\n",
    "from pytorch_lightning import LightningModule,seed_everything,Trainer\n",
    "from pytorch_lightning.callbacks import ModelCheckpoint,LearningRateMonitor\n",
    "from torch.optim.lr_scheduler import CosineAnnealingLR,ReduceLROnPlateau\n",
    "from sklearn.metrics import classification_report\n",
    "import torchmetrics\n",
    "from lightning.pytorch.callbacks.early_stopping import EarlyStopping\n",
    "import numpy as np\n",
    "import pytorchvideo\n",
    "import pytorch_lightning as pl\n",
    "import pytorchvideo.models.hub.slowfast as slowfast\n",
    "from lion_pytorch import Lion\n",
    "import pytorchvideo.models.hub.x3d as x3d\n"
   ]
  },
  {
   "cell_type": "code",
   "execution_count": 3,
   "metadata": {},
   "outputs": [],
   "source": [
    "#  Define the transform video data\n",
    "side_size = 300\n",
    "mean = [0.45, 0.45, 0.45]\n",
    "std = [0.225, 0.225, 0.225]\n",
    "crop_size = 256\n",
    "num_frames = 32\n",
    "sampling_rate = 2\n",
    "frames_per_second = 30\n",
    "slowfast_alpha = 4\n",
    "num_clips = 10\n",
    "num_crops = 3\n",
    "\n",
    "class PackPathway(torch.nn.Module):\n",
    "    \"\"\"\n",
    "    Transform for converting video frames as a list of tensors. \n",
    "    \"\"\"\n",
    "    def __init__(self):\n",
    "        super().__init__()\n",
    "        \n",
    "    def forward(self, frames: torch.Tensor):\n",
    "        fast_pathway = frames\n",
    "        # Perform temporal sampling from the fast pathway.\n",
    "        slow_pathway = torch.index_select(\n",
    "            frames,\n",
    "            1,\n",
    "            torch.linspace(\n",
    "                0, frames.shape[1] - 1, frames.shape[1] // slowfast_alpha\n",
    "            ).long(),\n",
    "        )\n",
    "        frame_list = [slow_pathway, fast_pathway]\n",
    "        return frame_list\n",
    "\n",
    "transform =  ApplyTransformToKey(\n",
    "    key=\"video\",\n",
    "    transform=Compose(\n",
    "        [\n",
    "            UniformTemporalSubsample(num_frames),\n",
    "            Lambda(lambda x: x/255.0),\n",
    "            NormalizeVideo(mean, std),\n",
    "            ShortSideScale(\n",
    "                size=side_size\n",
    "            ),\n",
    "            CenterCropVideo(crop_size),\n",
    "            PackPathway()\n",
    "        ]\n",
    "    ),\n",
    ")\n",
    "train_transform =  ApplyTransformToKey(\n",
    "    key=\"video\",\n",
    "    transform=Compose(\n",
    "        [\n",
    "            UniformTemporalSubsample(num_frames),\n",
    "            Lambda(lambda x: x/255.0),\n",
    "            NormalizeVideo(mean, std),\n",
    "            RandomShortSideScale(min_size=256, max_size=320),\n",
    "            RandomCrop(256),\n",
    "            RandomHorizontalFlip(p=0.5),\n",
    "            ShortSideScale(\n",
    "                size=side_size\n",
    "            ),\n",
    "            CenterCropVideo(crop_size),\n",
    "            PackPathway()\n",
    "        ]\n",
    "    ),\n",
    ")\n",
    "\n",
    "# The duration of the input clip is also specific to the model.\n",
    "clip_duration = (num_frames * sampling_rate)/frames_per_second"
   ]
  },
  {
   "cell_type": "code",
   "execution_count": 4,
   "metadata": {},
   "outputs": [],
   "source": []
  },
  {
   "cell_type": "code",
   "execution_count": 5,
   "metadata": {},
   "outputs": [],
   "source": [
    "# Define the model using slowfast_r50 is backbone model and backend is pytorch lightning\n",
    "import os\n",
    "from torch.utils.data import DataLoader\n",
    "NUM_WORKERS =  os.cpu_count() or 0\n",
    "from torchmetrics.classification import BinaryAccuracy,BinaryF1Score\n",
    "class videoClassifer(LightningModule):\n",
    "    def __init__(self) -> None:\n",
    "        super().__init__()\n",
    "        self.prepresentation=slowfast.slowfast_r50(pretrained=True) # slowfast_r50 is pretrained model\n",
    "        self.prepresentation.blocks[6].proj=nn.Linear(in_features=2304, out_features=1000, bias=True) # modify project layer to vector prepresentation \n",
    "        \n",
    "        self.fc=nn.Sequential( # Define fully connected\n",
    "            nn.Linear(in_features=1000, out_features=500),\n",
    "            nn.ReLU(),\n",
    "            nn.Linear(in_features=500,out_features=400),\n",
    "            nn.ReLU(),\n",
    "            \n",
    "            nn.Linear(in_features=400,out_features=1)\n",
    "        )\n",
    "        for param in self.prepresentation .blocks[:] .parameters(): # Freeze parameters of pretrained model\n",
    "            param.requires_grad = False\n",
    "        \n",
    "        \n",
    "    \n",
    "        \n",
    "            \n",
    "        self.lr=1e-2 # learning rate\n",
    "       \n",
    "        self.batch_size=16 \n",
    "\n",
    "        self.numworker=NUM_WORKERS \n",
    "        # evalation\n",
    "        self.metrics=BinaryAccuracy().to(self.device)  # Define Accuracy metris\n",
    "        self.F1_score=BinaryF1Score().to(self.device) # Define F1 Score \n",
    "        \n",
    "      \n",
    "\n",
    "        self.criterion=nn.BCEWithLogitsLoss() # Loss function\n",
    "    \n",
    "    \n",
    "\n",
    "    def forward(self,x):\n",
    "        x=self.prepresentation(x)\n",
    "        x=self.fc(x)\n",
    "\n",
    "        return x\n",
    "    def configure_optimizers(self):\n",
    "        \n",
    "        \n",
    "        opt = Lion(params=self.parameters(),lr=self.lr, weight_decay=1e-2)  # Optimizer\n",
    "        scheduler=CosineAnnealingLR(optimizer=opt,T_max=10,eta_min=1e-5,last_epoch=-1) # scheduler purpose control \n",
    "        return {\"optimizer\":opt,\"lr_scheduler\":scheduler}\n",
    "    # define train dataloader to load dataset from folder \n",
    "    def train_dataloader(self):\n",
    "        dataset=labeled_video_dataset(\"data/train\",clip_sampler=make_clip_sampler(\"random\",2),transform=transform ,decode_audio=False)\n",
    "        loader=DataLoader(dataset,batch_size=self.batch_size,num_workers=self.numworker,pin_memory=True)\n",
    "        return loader\n",
    "    # Define training step through training model \n",
    "    def training_step(self,batch,batch_idx):\n",
    "        video,label=batch[\"video\"],batch[\"label\"].to(torch.float32).detach()  # \n",
    "        out=self(video).squeeze(1) \n",
    "        loss=self.criterion(out,label) # loss function  \n",
    "        return {\"loss\":loss,'preds': out.detach(), 'target': label}\n",
    "    \n",
    "    # define validation dataloader to load dataset from folder \n",
    "    \n",
    "    def val_dataloader(self):\n",
    "        dataset=labeled_video_dataset(\"data/val\",clip_sampler=make_clip_sampler(\"random\",2),transform=transform,decode_audio=False)\n",
    "        loader=DataLoader(dataset,batch_size=self.batch_size,num_workers=self.numworker,pin_memory=True)\n",
    "        return loader\n",
    "    # Define validation step through training model \n",
    "    \n",
    "    def validation_step(self,batch,batch_idx):\n",
    "        video,label=batch[\"video\"],batch[\"label\"].to(torch.float32).detach()\n",
    "        out=self(video).squeeze(1) \n",
    "        loss=self.criterion(out,label)\n",
    "        return {\"loss\":loss,'preds': out.detach(), 'target': label}\n",
    "        \n",
    "    # Define testing dataloader\n",
    "    def test_dataloader(self):\n",
    "        dataset=labeled_video_dataset(\"data/test\",clip_sampler=make_clip_sampler(\"random\",2),transform=transform,decode_audio=False)\n",
    "        loader=DataLoader(dataset,batch_size=self.batch_size,num_workers=self.numworker,pin_memory=True)\n",
    "        return loader\n",
    "    \n",
    "    def test_step(self,batch,batch_idx):\n",
    "        video,label=batch[\"video\"],batch[\"label\"]\n",
    "        out=self(video).squeeze(1) \n",
    "        return {\"label\":label.detach(),\"pred\":out.detach()}\n",
    "    def test_epochs_end(self, outputs):\n",
    "        label=torch.cat([x[\"label\"] for x in outputs]).cpu().numpy()\n",
    "        pred=torch.cat([x[\"pred\"] for x in outputs]).cpu().numpy()\n",
    "        pred=np.where(pred>0.5,1,0)\n",
    "        print(classification_report(label,pred))\n",
    "    # When end epoch training logging some metrics and loss function\n",
    "    def training_epoch_end(self, outputs):\n",
    "       \n",
    "        avg_loss = torch.cat([x['loss'].reshape(-1,1) for x in outputs],0).mean()\n",
    "        preds = torch.cat([x['preds'] for x in outputs], dim=0)\n",
    "        target = torch.cat([x['target'] for x in outputs], dim=0)\n",
    "    \n",
    "        \n",
    "        self.F1_score.update(preds, target)\n",
    "        self.metrics.update(preds, target)\n",
    "        \n",
    "        metric_value = self.metrics.compute()\n",
    "        F1_score=self.F1_score.compute()\n",
    "       \n",
    "        self.log('train_loss', avg_loss, on_epoch=True)\n",
    "        self.log('train_metric', metric_value, on_epoch=True)\n",
    "        self.log(\"train_f1_score\",F1_score,on_epoch=True)\n",
    "\n",
    "    # When end epoch testing logging some metrics and loss function\n",
    "\n",
    "    def validation_epoch_end(self, outputs):\n",
    "        avg_loss = torch.cat([x['loss'].reshape(-1,1) for x in outputs],0).mean()\n",
    "        preds = torch.cat([x['preds'] for x in outputs], dim=0)\n",
    "        target = torch.cat([x['target'] for x in outputs], dim=0)\n",
    "    \n",
    "        self.F1_score.update(preds, target)\n",
    "        self.metrics.update(preds, target)\n",
    "        metric_value = self.metrics.compute()\n",
    "        F1_score=self.F1_score.compute()\n",
    "        self.F1_score.update(preds, target)\n",
    "        self.log('val_loss', avg_loss, on_epoch=True)\n",
    "        self.log('val_metric', metric_value, on_epoch=True)\n",
    "        self.log(\"val_f1_score\",F1_score,on_epoch=True)\n",
    "        \n"
   ]
  },
  {
   "cell_type": "code",
   "execution_count": 6,
   "metadata": {},
   "outputs": [],
   "source": [
    "\n",
    "model=videoClassifer() # initialize model"
   ]
  },
  {
   "cell_type": "code",
   "execution_count": 10,
   "metadata": {},
   "outputs": [],
   "source": [
    "''' Initialize the logger'''\n",
    "import wandb\n",
    "from lightning.pytorch.loggers import WandbLogger\n",
    "wandb_logger = WandbLogger(project=\"Video_classify\",job_type='train')\n",
    "\n"
   ]
  },
  {
   "cell_type": "code",
   "execution_count": 11,
   "metadata": {},
   "outputs": [],
   "source": [
    "checkpoint_callback=ModelCheckpoint(monitor=\"val_loss\",dirpath=r\"/checkpoint\",filename=\"VideoClassifierSlowFast_r50_300\",save_last=True) #  Checkpoint callback to save checkpoint model\n",
    "lr_monitor=LearningRateMonitor(logging_interval=\"epoch\") # Monitor learning rate\n",
    "early_stop_callback = EarlyStopping(monitor=\"val_accuracy\", min_delta=0.00, patience=3, verbose=False, mode=\"max\") # Early stopping callback "
   ]
  },
  {
   "cell_type": "code",
   "execution_count": 12,
   "metadata": {},
   "outputs": [],
   "source": [
    "trainer = Trainer(accelerator=\"gpu\", devices=[0,1,2,3], # trainer device \n",
    "                  callbacks=[lr_monitor,checkpoint_callback], \n",
    "                  enable_progress_bar=True,logger=wandb_logger,strategy='dp'\n",
    "                  ,max_epochs=100)"
   ]
  },
  {
   "cell_type": "code",
   "execution_count": 13,
   "metadata": {},
   "outputs": [],
   "source": [
    "trainer.fit(model) # fitting model"
   ]
  },
  {
   "cell_type": "code",
   "execution_count": 14,
   "metadata": {},
   "outputs": [],
   "source": [
    "# load the model from checkpoint file\n",
    "model_classifier=videoClassifer.load_from_checkpoint(r\"checkpoint/VideoClassifierSlowFast_50_size_300.ckpt\") # load the model from checkpoint file"
   ]
  },
  {
   "cell_type": "code",
   "execution_count": 15,
   "metadata": {},
   "outputs": [],
   "source": [
    "test_loader=model_classifier.test_dataloader() # load test dataloader"
   ]
  },
  {
   "cell_type": "code",
   "execution_count": 16,
   "metadata": {},
   "outputs": [
    {
     "name": "stdout",
     "output_type": "stream",
     "text": [
      "Total prediction time: 36.28 seconds\n",
      "Average prediction time per sample: 0.5669 seconds\n"
     ]
    }
   ],
   "source": [
    "import time\n",
    "\n",
    "predicts = []\n",
    "labels = []\n",
    "start_time = time.time()\n",
    "# num_samples = len(test_loader)\n",
    "model_classifier.eval()\n",
    "for batch in test_loader:\n",
    "    video = batch[\"video\"]\n",
    "    label = batch[\"label\"]\n",
    "    \n",
    "    preds = model_classifier(video)\n",
    "    post_act = torch.nn.Sigmoid()\n",
    "\n",
    "    preds = post_act(preds)\n",
    "    preds = preds > 0.5\n",
    "    predicts.append(preds[0].numpy())\n",
    "    labels.append(label[0].numpy())\n",
    "\n",
    "end_time = time.time()\n",
    "total_time = end_time - start_time\n",
    "avg_time_per_sample = total_time / 64\n",
    "print(f\"Total prediction time: {total_time:.2f} seconds\")\n",
    "print(f\"Average prediction time per sample: {avg_time_per_sample:.4f} seconds\")"
   ]
  },
  {
   "cell_type": "code",
   "execution_count": 17,
   "metadata": {},
   "outputs": [
    {
     "name": "stdout",
     "output_type": "stream",
     "text": [
      "              precision    recall  f1-score   support\n",
      "\n",
      "           0       0.78      0.75      0.77        24\n",
      "           1       0.85      0.88      0.86        40\n",
      "\n",
      "    accuracy                           0.83        64\n",
      "   macro avg       0.82      0.81      0.82        64\n",
      "weighted avg       0.83      0.83      0.83        64\n",
      "\n"
     ]
    }
   ],
   "source": [
    "print(classification_report(y_pred=predicts,y_true=labels))"
   ]
  },
  {
   "cell_type": "code",
   "execution_count": 18,
   "metadata": {},
   "outputs": [
    {
     "data": {
      "text/plain": [
       "<sklearn.metrics._plot.confusion_matrix.ConfusionMatrixDisplay at 0x7f0eb25846a0>"
      ]
     },
     "execution_count": 18,
     "metadata": {},
     "output_type": "execute_result"
    },
    {
     "data": {
      "image/png": "[encoded data removed]",
      "text/plain": [
       "<Figure size 640x480 with 2 Axes>"
      ]
     },
     "metadata": {},
     "output_type": "display_data"
    }
   ],
   "source": [
    "from sklearn.metrics import confusion_matrix, ConfusionMatrixDisplay\n",
    "mt=confusion_matrix(y_pred=predicts,y_true=labels)\n",
    "disp=ConfusionMatrixDisplay(mt,display_labels=[\"Fight\",\"Normal\"])\n",
    "disp.plot()"
   ]
  },
  {
   "cell_type": "code",
   "execution_count": 20,
   "metadata": {},
   "outputs": [
    {
     "name": "stdout",
     "output_type": "stream",
     "text": [
      "tensor([[0.0097]], grad_fn=<SigmoidBackward0>)\n",
      "Fight\n"
     ]
    }
   ],
   "source": [
    "video_path=r\"/data/test/Fight/_q5Nwh4Z6ao_6.avi\"\n",
    "# Load video data\n",
    "from pytorchvideo.data.encoded_video import EncodedVideo\n",
    "start_sec = 0\n",
    "end_sec = start_sec + clip_duration\n",
    "\n",
    "# Initialize an EncodedVideo helper class and load the video\n",
    "video = EncodedVideo.from_path(video_path)\n",
    "\n",
    "# Load the desired clip\n",
    "video_data = video.get_clip(start_sec=start_sec, end_sec=end_sec)\n",
    "video_data = transform(video_data)\n",
    "inputs = video_data[\"video\"]\n",
    "inputs = [i[None, ...] for i in inputs]\n",
    "\n",
    "preds = model_classifier(inputs)\n",
    "\n",
    "# Get the predicted classes\n",
    "post_act = torch.nn.Sigmoid()\n",
    "preds = post_act(preds)\n",
    "labels_names=[\"Fight\",\"Normal\"]\n",
    "print(preds)\n",
    "print(labels_names[preds[0]>0.5])"
   ]
  }
 ],
 "metadata": {
  "kernelspec": {
   "display_name": "lightning",
   "language": "python",
   "name": "python3"
  },
  "language_info": {
   "codemirror_mode": {
    "name": "ipython",
    "version": 3
   },
   "file_extension": ".py",
   "mimetype": "text/x-python",
   "name": "python",
   "nbconvert_exporter": "python",
   "pygments_lexer": "ipython3",
   "version": "3.9.16"
  },
  "orig_nbformat": 4
 },
 "nbformat": 4,
 "nbformat_minor": 2
}
